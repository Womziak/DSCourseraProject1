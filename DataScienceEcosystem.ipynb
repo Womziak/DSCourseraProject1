{
 "cells": [
  {
   "cell_type": "markdown",
   "id": "8d48dea8-3faa-4bf5-bda4-6278e8f62a96",
   "metadata": {},
   "source": [
    "# Data Science Tools and Ecosystem"
   ]
  },
  {
   "cell_type": "markdown",
   "id": "e5ee432d-f08d-4786-b12d-fd21246ece9b",
   "metadata": {},
   "source": [
    "In this notebook, Data Science Tools and Ecosystem are summarized."
   ]
  },
  {
   "cell_type": "markdown",
   "id": "81a6c405-e6ec-4326-9a1d-95b3dea8dca0",
   "metadata": {},
   "source": [
    "**Objectives:**\n",
    "- List popular languages for Data Science\n",
    "- List popular libraries for Data Science\n",
    "- List popular development environment open source tools used in data science.\n"
   ]
  },
  {
   "cell_type": "markdown",
   "id": "befc92ad-d56b-4110-bb60-1b9fa58bee1d",
   "metadata": {},
   "source": [
    "Some of the popular languages that Data Scientists use are:\n",
    "1. Python\n",
    "2. SQL\n",
    "3. R"
   ]
  },
  {
   "cell_type": "markdown",
   "id": "cfbde49a-fca7-4ccb-8507-ba9753d8495c",
   "metadata": {},
   "source": [
    "Some of the commonly used libraries used by Data Scientists include:\n",
    "1. NumPy\n",
    "2. Pandas\n",
    "3. Scikit-learn"
   ]
  },
  {
   "cell_type": "markdown",
   "id": "5df8ff2a-5b8d-4cac-9f31-8581b643b168",
   "metadata": {},
   "source": [
    "| Data Science Tools. |\n",
    "| -------------------|\n",
    "|Jupyter Notebooks |\n",
    "| Zeppelin Notebooks |\n",
    "| R Studio |"
   ]
  },
  {
   "cell_type": "markdown",
   "id": "2c95aaf5-06f8-461f-827e-aa3ff8a23b77",
   "metadata": {},
   "source": [
    "### Below are a few examples of evaluating arithmetic expressions in Python."
   ]
  },
  {
   "cell_type": "code",
   "execution_count": 4,
   "id": "b02835b8-d519-474f-82c9-8742b4f7968f",
   "metadata": {},
   "outputs": [
    {
     "data": {
      "text/plain": [
       "17"
      ]
     },
     "execution_count": 4,
     "metadata": {},
     "output_type": "execute_result"
    }
   ],
   "source": [
    "# This a simple arithmetic expression to multiply then add integers\n",
    "(3*4)+5"
   ]
  },
  {
   "cell_type": "code",
   "execution_count": 7,
   "id": "1529a5bd-bd6a-4a2b-9bb8-f328fb372b0a",
   "metadata": {},
   "outputs": [
    {
     "data": {
      "text/plain": [
       "3.33"
      ]
     },
     "execution_count": 7,
     "metadata": {},
     "output_type": "execute_result"
    }
   ],
   "source": [
    "# This will convert 200 minutes to hours by diving by 60\n",
    "round(float(200/60),2)"
   ]
  },
  {
   "cell_type": "markdown",
   "id": "ede15b47-4bdc-49d1-9c3f-4a5b2b1336fa",
   "metadata": {},
   "source": [
    "## Author\n",
    "Kuba Woźniak"
   ]
  }
 ],
 "metadata": {
  "kernelspec": {
   "display_name": "Python 3 (ipykernel)",
   "language": "python",
   "name": "python3"
  },
  "language_info": {
   "codemirror_mode": {
    "name": "ipython",
    "version": 3
   },
   "file_extension": ".py",
   "mimetype": "text/x-python",
   "name": "python",
   "nbconvert_exporter": "python",
   "pygments_lexer": "ipython3",
   "version": "3.11.9"
  }
 },
 "nbformat": 4,
 "nbformat_minor": 5
}
